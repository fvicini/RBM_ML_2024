{
 "cells": [
  {
   "cell_type": "markdown",
   "metadata": {
    "id": "2IGuNCbv2QpF"
   },
   "source": [
    "# Python and C++ extension"
   ]
  },
  {
   "cell_type": "markdown",
   "metadata": {
    "id": "0Q9vfbd_4dV6"
   },
   "source": [
    "## Importing library"
   ]
  },
  {
   "cell_type": "code",
   "execution_count": null,
   "metadata": {
    "id": "BeaV-lky4gkR"
   },
   "outputs": [],
   "source": [
    "import sys\n",
    "sys.path.append('/content/CppToPython')"
   ]
  },
  {
   "cell_type": "code",
   "execution_count": null,
   "metadata": {
    "id": "BeaV-lky4gkR"
   },
   "outputs": [],
   "source": [
    "import numpy as np\n",
    "import GeDiM4Py as gedim"
   ]
  },
  {
   "cell_type": "markdown",
   "metadata": {
    "id": "nuDFWAA8Q0b7"
   },
   "source": [
    "### Initialize"
   ]
  },
  {
   "cell_type": "code",
   "execution_count": null,
   "metadata": {
    "id": "13zM04WMQ5hJ"
   },
   "outputs": [],
   "source": [
    "lib = gedim.ImportLibrary(\"/content/CppToPython/release/GeDiM4Py.so\")\n",
    "\n",
    "config = { 'GeometricTolerance': 1.0e-8 }\n",
    "gedim.Initialize(config, lib)"
   ]
  },
  {
   "cell_type": "markdown",
   "metadata": {
    "id": "Zng9sfOKQtVo"
   },
   "source": [
    "## Non-Linear Equation\n",
    "\n",
    "Solving the following equation on square $\\bar{\\Omega} = [0, 1] \\times [0, 1]$\n",
    "\n",
    "$$\n",
    "\\begin{cases}\n",
    "- \\nabla \\cdot (\\nabla u) + u \\nabla \\cdot u = g & \\text{in } \\Omega\\\\\n",
    "u = 0.0 & \\text{in } ∂Ω\n",
    "\\end{cases}\n",
    "$$\n",
    "\n",
    "where $u = 16 xy(1-x)(1-y)$.\n",
    "\n",
    "The weak form of the problem becomes, find $u \\in V := H^1_0(\\Omega)$\n",
    "$$\n",
    "\\int_{\\Omega} \\nabla u \\nabla v + \\int_{\\Omega} u \\nabla \\cdot u v - \\int_{\\Omega} g v = 0 \\quad \\forall v \\in V \\Leftrightarrow f(u; v) := f_1(u; v) + f_2(u; v) + f_3(u; v) = 0 \\quad \\forall v \\in V\n",
    "$$\n",
    "\n",
    "Using Newton schema, we solve for each $k$ iteration the problem\n",
    "$$\n",
    "J_f [\\partial u]_{|_{u_k}} = - f(u_k; v) = 0 \\quad \\forall v \\in V\n",
    "$$\n",
    "where $J_f [\\partial u]_{|_{u_k}}$ is the evaluation of the derivative (Jacobian) of $J_f$ in the point $u_k$ along the unknown direction of $\\partial u$.\n",
    "\n",
    "After computations, we find the linear system, on each $k$ iteration, fixed $u_k$ find $\\partial u$ s.t.\n",
    "\n",
    "$$\n",
    "\\int_{\\Omega} \\nabla \\partial u \\cdot \\nabla v + \\int_{\\Omega} \\nabla \\cdot u_k \\partial u \\ v + \\int_{\\Omega} u_k \\nabla \\cdot \\partial u \\ v = - \\int_{\\Omega} \\nabla u_k \\cdot \\nabla v - \\int_{\\Omega} \\nabla u_k \\cdot u_k \\ v + \\int_{\\Omega} g v \n",
    "$$"
   ]
  },
  {
   "cell_type": "code",
   "execution_count": null,
   "metadata": {
    "id": "H7O49sEqW1Bk"
   },
   "outputs": [],
   "source": [
    "def Burger_a(numPoints, points):\n",
    "\tvalues_a = np.ones(numPoints, order='F')\n",
    "\treturn values_a.ctypes.data\n",
    "\n",
    "def Burger_b(numPoints, points):\n",
    "\tvalues_b = np.ones((2, numPoints), order='F')\n",
    "\treturn values_b.ctypes.data\n",
    "\n",
    "def Burger_c(numPoints, points):\n",
    "\tvalues_c = np.ones(numPoints, order='F')\n",
    "\treturn values_c.ctypes.data\n",
    "\n",
    "def Burger_non_linear_b(numPoints, points, u, u_x, u_y):\n",
    "\tvecu = gedim.make_nd_array(u, numPoints, np.double)\n",
    "\tvalues_nl_b = vecu\n",
    "\treturn values_nl_b.ctypes.data\n",
    "\n",
    "def Burger_non_linear_c(numPoints, points, u, u_x, u_y):\n",
    "\tvecu_x = gedim.make_nd_array(u_x, numPoints, np.double)\n",
    "\tvecu_y = gedim.make_nd_array(u_y, numPoints, np.double)\n",
    "\tvalues_nl_c = vecu_x + vecu_y\n",
    "\treturn values_nl_c.ctypes.data\n",
    "\n",
    "def Burger_f(numPoints, points):\n",
    "\tmatPoints = gedim.make_nd_matrix(points, (3, numPoints), np.double)\n",
    "\tvalues_f = 32.0 * (matPoints[1,:] * (1.0 - matPoints[1,:]) + matPoints[0,:] * (1.0 - matPoints[0,:])) + \\\n",
    "\t(16.0 * (1.0 - 2.0 * matPoints[0,:]) * matPoints[1,:] * (1.0 - matPoints[1,:]) + \\\n",
    "\t16.0 * (1.0 - 2.0 * matPoints[1,:]) * matPoints[0,:] * (1.0 - matPoints[0,:])) * \\\n",
    "\t16.0 * (matPoints[1,:] * (1.0 - matPoints[1,:]) * matPoints[0,:] * (1.0 - matPoints[0,:]))\n",
    "\treturn values_f.ctypes.data\n",
    "\n",
    "def Burger_non_linear_f(numPoints, points, u, u_x, u_y):\n",
    "\tvecu = gedim.make_nd_array(u, numPoints, np.double)\n",
    "\tvecu_x = gedim.make_nd_array(u_x, numPoints, np.double)\n",
    "\tvecu_y = gedim.make_nd_array(u_y, numPoints, np.double)\n",
    "\tvalues_nl_f = vecu * (vecu_x + vecu_y)\n",
    "\treturn values_nl_f.ctypes.data\n",
    "\n",
    "def Burger_non_linear_der_f(numPoints, points, u, u_x, u_y):\n",
    "\tvecu_x = gedim.make_nd_array(u_x, numPoints, np.double)\n",
    "\tvecu_y = gedim.make_nd_array(u_y, numPoints, np.double)\n",
    "\tvalues_nl_d_f = np.zeros((2, numPoints), order='F')\n",
    "\tvalues_nl_d_f[0,:] = vecu_x\n",
    "\tvalues_nl_d_f[1,:] = vecu_y\n",
    "\treturn values_nl_d_f.ctypes.data\n",
    "\n",
    "def Burger_exactSolution(numPoints, points):\n",
    "\tmatPoints = gedim.make_nd_matrix(points, (3, numPoints), np.double)\n",
    "\tvalues_ex = 16.0 * (matPoints[1,:] * (1.0 - matPoints[1,:]) * matPoints[0,:] * (1.0 - matPoints[0,:]))\n",
    "\treturn values_ex.ctypes.data\n",
    "\n",
    "def Burger_exactDerivativeSolution(direction, numPoints, points):\n",
    "\tmatPoints = gedim.make_nd_matrix(points, (3, numPoints), np.double)\n",
    "\n",
    "\tif direction == 0:\n",
    "\t\tvalues_ex_d = 16.0 * (1.0 - 2.0 * matPoints[0,:]) * matPoints[1,:] * (1.0 - matPoints[1,:])\n",
    "\telif direction == 1:\n",
    "\t\tvalues_ex_d = 16.0 * (1.0 - 2.0 * matPoints[1,:]) * matPoints[0,:] * (1.0 - matPoints[0,:])\n",
    "\telse:\n",
    "\t\tvalues_ex_d = np.zeros(numPoints, order='F')\n",
    "\n",
    "\treturn values_ex_d.ctypes.data\n",
    "\n",
    "def Ones(numPoints, points):\n",
    "\tvalues_one = np.ones(numPoints, order='F')\n",
    "\treturn values_one.ctypes.data\n",
    "\n",
    "def OnesDerivative(numPoints, points):\n",
    "\tvalues_one_d = np.ones((2, numPoints), order='F')\n",
    "\treturn values_one_d.ctypes.data\n",
    "\n",
    "def Zeros(numPoints, points):\n",
    "\tvalues_zero = np.zeros(numPoints, order='F')\n",
    "\treturn values_zero.ctypes.data\n",
    "\n",
    "def ZerosDerivative(direction, numPoints, points):\n",
    "\tvalues_zero_d = np.zeros(numPoints, order='F')\n",
    "\treturn values_zero_d.ctypes.data"
   ]
  },
  {
   "cell_type": "markdown",
   "metadata": {
    "id": "ib0pPAik4x8g"
   },
   "source": [
    "### Define Simulation Parameters"
   ]
  },
  {
   "cell_type": "markdown",
   "metadata": {},
   "source": [
    "Set geometry parameters"
   ]
  },
  {
   "cell_type": "code",
   "execution_count": null,
   "metadata": {
    "id": "2ok6VkTC40OC"
   },
   "outputs": [],
   "source": [
    "meshSize = 0.01\n",
    "order = 1\n",
    "\n",
    "domain = { 'SquareEdge': 1.0, 'VerticesBoundaryCondition': [1,1,1,1], 'EdgesBoundaryCondition': [1,1,1,1], 'DiscretizationType': 1, 'MeshCellsMaximumArea': meshSize }\n",
    "[meshInfo, mesh] = gedim.CreateDomainSquare(domain, lib)\n",
    "\n",
    "discreteSpace = { 'Order': order, 'Type': 1, 'BoundaryConditionsType': [1, 2] }\n",
    "[problemData, dofs, strongs] = gedim.Discretize(discreteSpace, lib)"
   ]
  },
  {
   "cell_type": "markdown",
   "metadata": {},
   "source": [
    "Set Newton parameters"
   ]
  },
  {
   "cell_type": "code",
   "execution_count": null,
   "metadata": {
    "id": "2ok6VkTC40OC"
   },
   "outputs": [],
   "source": [
    "residual_norm = 1.0\n",
    "solution_norm = 1.0;\n",
    "newton_tol = 1.0e-6\n",
    "max_iterations = 7\n",
    "num_iteration = 1"
   ]
  },
  {
   "cell_type": "markdown",
   "metadata": {},
   "source": [
    "Set Initial Solution"
   ]
  },
  {
   "cell_type": "code",
   "execution_count": null,
   "metadata": {},
   "outputs": [],
   "source": [
    "u_k = np.zeros(problemData['NumberDOFs'], order='F')\n",
    "u_strong = np.zeros(problemData['NumberStrongs'], order='F')"
   ]
  },
  {
   "cell_type": "markdown",
   "metadata": {
    "id": "Xqp_ZBhOZoqD"
   },
   "source": [
    "### Run Newton Algorithm"
   ]
  },
  {
   "cell_type": "code",
   "execution_count": null,
   "metadata": {},
   "outputs": [],
   "source": [
    "while num_iteration < max_iterations and residual_norm > newton_tol * solution_norm: \n",
    "    [stiffness, stiffnessStrong] = gedim.AssembleStiffnessMatrix(Burger_a, problemData, lib)\n",
    "    [reaction, reactionStrong] = gedim.AssembleNonLinearReactionMatrix(Burger_c, Burger_non_linear_c, u_k, u_strong, problemData, lib)\n",
    "    [advection, advectionStrong] = gedim.AssembleNonLinearAdvectionMatrix(Burger_b, Burger_non_linear_b, u_k, u_strong, problemData, lib)\n",
    "\n",
    "    forcingTerm_g = gedim.AssembleForcingTerm(Burger_f, problemData, lib)\n",
    "    forcingTerm_v = gedim.AssembleNonLinearForcingTerm(Ones, Burger_non_linear_f, u_k, u_strong, problemData, lib)\n",
    "    forcingTerm_der_v = gedim.AssembleNonLinearDerivativeForcingTerm(OnesDerivative, Burger_non_linear_der_f, u_k, u_strong, problemData, lib)\n",
    "    \n",
    "    du = gedim.LUSolver(stiffness + advection + reaction, \\\n",
    "            forcingTerm_g - forcingTerm_v - forcingTerm_der_v, \\\n",
    "            lib)\n",
    "    \n",
    "    u_k = u_k + du\n",
    "    \n",
    "    du_normL2 = gedim.ComputeErrorL2(Zeros, du, np.zeros(problemData['NumberStrongs'], order='F'), lib)\n",
    "    u_errorL2 = gedim.ComputeErrorL2(Burger_exactSolution, u_k, u_strong, lib)\n",
    "    u_errorH1 = gedim.ComputeErrorH1(Burger_exactDerivativeSolution, u_k, u_strong, lib)\n",
    "    u_normL2 = gedim.ComputeErrorL2(Zeros, u_k, u_strong, lib)\n",
    "    u_normH1 = gedim.ComputeErrorH1(ZerosDerivative, u_k, u_strong, lib)\n",
    "    \n",
    "    solution_norm = u_normL2;\n",
    "    residual_norm = du_normL2;\n",
    "    \n",
    "    print(\"dofs\", \"h\", \"errorL2\", \"errorH1\", \"residual\", \"iteration\", \"max_iteration\")\n",
    "    print(problemData['NumberDOFs'], '{:.16e}'.format(problemData['H']), '{:.16e}'.format(u_errorL2 / u_normL2), '{:.16e}'.format(u_errorH1 / u_normH1), '{:.16e}'.format(residual_norm / u_normL2), '{:d}'.format(num_iteration), '{:d}'.format(max_iterations)) \n",
    "    \n",
    "    num_iteration = num_iteration + 1"
   ]
  },
  {
   "cell_type": "markdown",
   "metadata": {},
   "source": [
    "### Plot Solution"
   ]
  },
  {
   "cell_type": "code",
   "execution_count": null,
   "metadata": {},
   "outputs": [],
   "source": [
    "gedim.PlotSolution(mesh, dofs, strongs, u_k, u_strong)\n",
    "gedim.ExportSolution(Burger_exactSolution, u_k, u_strong, lib)\n",
    "\n",
    "[numQuadraturePoints, quadraturePoints, quadratureWeights, sol, sol_x, sol_y] = gedim.EvaluateSolutionOnPoints(u_k, u_strong, lib)\n",
    "gedim.ExportSolutionOnPoints(numQuadraturePoints, quadraturePoints, sol, lib)"
   ]
  }
 ],
 "metadata": {
  "colab": {
   "provenance": []
  },
  "kernelspec": {
   "display_name": "Python 3 (ipykernel)",
   "language": "python",
   "name": "python3"
  },
  "language_info": {
   "codemirror_mode": {
    "name": "ipython",
    "version": 3
   },
   "file_extension": ".py",
   "mimetype": "text/x-python",
   "name": "python",
   "nbconvert_exporter": "python",
   "pygments_lexer": "ipython3",
   "version": "3.10.14"
  }
 },
 "nbformat": 4,
 "nbformat_minor": 4
}
