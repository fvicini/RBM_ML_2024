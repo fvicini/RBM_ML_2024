{
 "cells": [
  {
   "cell_type": "markdown",
   "metadata": {
    "id": "2IGuNCbv2QpF"
   },
   "source": [
    "# Python and C++ extension"
   ]
  },
  {
   "cell_type": "markdown",
   "metadata": {
    "id": "0Q9vfbd_4dV6"
   },
   "source": [
    "## Importing library"
   ]
  },
  {
   "cell_type": "code",
   "execution_count": 1,
   "metadata": {
    "id": "BeaV-lky4gkR"
   },
   "outputs": [],
   "source": [
    "import sys\n",
    "sys.path.append('/content/CppToPython')"
   ]
  },
  {
   "cell_type": "code",
   "execution_count": 2,
   "metadata": {
    "id": "BeaV-lky4gkR"
   },
   "outputs": [],
   "source": [
    "import numpy as np\n",
    "import GeDiM4Py as gedim"
   ]
  },
  {
   "cell_type": "markdown",
   "metadata": {
    "id": "nuDFWAA8Q0b7"
   },
   "source": [
    "### Initialize"
   ]
  },
  {
   "cell_type": "code",
   "execution_count": 3,
   "metadata": {
    "id": "13zM04WMQ5hJ"
   },
   "outputs": [],
   "source": [
    "lib = gedim.ImportLibrary(\"/content/CppToPython/release/GeDiM4Py.so\")\n",
    "\n",
    "config = { 'GeometricTolerance': 1.0e-8 }\n",
    "gedim.Initialize(config, lib)"
   ]
  },
  {
   "cell_type": "markdown",
   "metadata": {
    "id": "Zng9sfOKQtVo"
   },
   "source": [
    "## Non-Linear Equation\n",
    "\n",
    "Solving the following equation on square $\\bar{\\Omega} = [0, 1] \\times [0, 1]$\n",
    "\n",
    "$$\n",
    "\\begin{cases}\n",
    "- \\nabla \\cdot (\\nabla u) + u \\nabla \\cdot u = g & \\text{in } \\Omega\\\\\n",
    "u = 0.0 & \\text{in } ∂Ω\n",
    "\\end{cases}\n",
    "$$\n",
    "\n",
    "where $u = 16 xy(1-x)(1-y)$.\n",
    "\n",
    "The weak form of the problem becomes, find $u \\in V := H^1_0(\\Omega)$\n",
    "$$\n",
    "\\int_{\\Omega} \\nabla u \\nabla v + \\int_{\\Omega} u \\nabla \\cdot u v - \\int_{\\Omega} g v = 0 \\quad \\forall v \\in V \\Leftrightarrow f(u; v) := f_1(u; v) = 0 \\quad \\forall v \\in V\n",
    "$$\n",
    "\n",
    "Using Newton schema, we solve for each $k$ iteration the problem\n",
    "$$\n",
    "J_f [\\partial u]_{|_{u_k}} = - f(u_k; v) = 0 \\quad \\forall v \\in V\n",
    "$$\n",
    "where $J_f [\\partial u]_{|_{u_k}}$ is the evaluation of the derivative (Jacobian) of $J_f$ in the point $u_k$ along the unknown direction of $\\partial u$."
   ]
  },
  {
   "cell_type": "code",
   "execution_count": null,
   "metadata": {
    "id": "H7O49sEqW1Bk"
   },
   "outputs": [],
   "source": [
    "def Poisson_A():\n",
    "\treturn 10.0\n",
    "def Poisson_B():\n",
    "\treturn 0.1\n",
    "def Poisson_C():\n",
    "\treturn 2.0\n",
    "\n",
    "def Poisson_a(numPoints, points):\n",
    "\tvalues = np.ones(numPoints) * Poisson_A()\n",
    "\treturn values.ctypes.data\n",
    "\n",
    "def Poisson_b(numPoints, points):\n",
    "\tvalues = np.ones((2, numPoints)) * Poisson_B()\n",
    "\treturn values.ctypes.data\n",
    "\n",
    "def Poisson_c(numPoints, points):\n",
    "\tvalues = np.ones(numPoints) * Poisson_C()\n",
    "\treturn values.ctypes.data\n",
    "\n",
    "def Poisson_f(numPoints, points):\n",
    "\tmatPoints = gedim.make_nd_matrix(points, (3, numPoints), np.double)\n",
    "\tvalues = Poisson_A() * 32.0 * (matPoints[1,:] * (1.0 - matPoints[1,:]) + matPoints[0,:] * (1.0 - matPoints[0,:])) + \\\n",
    "\tPoisson_B() * 16.0 * (1.0 - 2.0 * matPoints[0,:]) * matPoints[1,:] * (1.0 - matPoints[1,:]) + \\\n",
    "\tPoisson_B() * 16.0 * (1.0 - 2.0 * matPoints[1,:]) * matPoints[0,:] * (1.0 - matPoints[0,:]) + \\\n",
    "\tPoisson_C() * 16.0 * (matPoints[1,:] * (1.0 - matPoints[1,:]) * matPoints[0,:] * (1.0 - matPoints[0,:])) + Poisson_C() * 1.1\n",
    "\treturn values.ctypes.data\n",
    "\n",
    "def Poisson_exactSolution(numPoints, points):\n",
    "\tmatPoints = gedim.make_nd_matrix(points, (3, numPoints), np.double)\n",
    "\tvalues = 16.0 * (matPoints[1,:] * (1.0 - matPoints[1,:]) * matPoints[0,:] * (1.0 - matPoints[0,:])) + 1.1\n",
    "\treturn values.ctypes.data\n",
    "\n",
    "def Poisson_exactDerivativeSolution(direction, numPoints, points):\n",
    "\tmatPoints = gedim.make_nd_matrix(points, (3, numPoints), np.double)\n",
    "\n",
    "\tif direction == 0:\n",
    "\t\tvalues = 16.0 * (1.0 - 2.0 * matPoints[0,:]) * matPoints[1,:] * (1.0 - matPoints[1,:])\n",
    "\telif direction == 1:\n",
    "\t\tvalues = 16.0 * (1.0 - 2.0 * matPoints[1,:]) * matPoints[0,:] * (1.0 - matPoints[0,:])\n",
    "\telse:\n",
    "\t\tvalues = np.zeros(numPoints)\n",
    "\n",
    "\treturn values.ctypes.data\n",
    "\n",
    "def Poisson_strongTerm(numPoints, points):\n",
    "\tmatPoints = gedim.make_nd_matrix(points, (3, numPoints), np.double)\n",
    "\tvalues = 16.0 * (matPoints[1,:] * (1.0 - matPoints[1,:]) * matPoints[0,:] * (1.0 - matPoints[0,:])) + 1.1\n",
    "\treturn values.ctypes.data\n",
    "\n",
    "def Poisson_weakTerm_right(numPoints, points):\n",
    "\tmatPoints = gedim.make_nd_matrix(points, (3, numPoints), np.double)\n",
    "\tvalues = Poisson_A() * 16.0 * (1.0 - 2.0 * matPoints[0,:]) * matPoints[1,:] * (1.0 - matPoints[1,:])\n",
    "\treturn values.ctypes.data\n",
    "\t\n",
    "def Poisson_weakTerm_left(numPoints, points):\n",
    "\tmatPoints = gedim.make_nd_matrix(points, (3, numPoints), np.double)\n",
    "\tvalues = - Poisson_A() * 16.0 * (1.0 - 2.0 * matPoints[0,:]) * matPoints[1,:] * (1.0 - matPoints[1,:])\n",
    "\treturn values.ctypes.data"
   ]
  },
  {
   "cell_type": "markdown",
   "metadata": {
    "id": "ib0pPAik4x8g"
   },
   "source": [
    "### Define Simulation Parameters"
   ]
  },
  {
   "cell_type": "code",
   "execution_count": null,
   "metadata": {
    "id": "2ok6VkTC40OC"
   },
   "outputs": [],
   "source": [
    "meshSize = 0.1\n",
    "order = 1"
   ]
  },
  {
   "cell_type": "markdown",
   "metadata": {
    "id": "kHoPAf81YZUb"
   },
   "source": [
    "### Create Mesh\n",
    "\n",
    "The library accepts the possibility to create square domains and rectangle domains.\n",
    "\n",
    "To description of the domain borders are passed to the library for the vertices and the edges of the domain as integer values called `markers`.\n",
    "Each `marker` identifies a different boundary condition.\n",
    "\n",
    "__In this example__:\n",
    "\n",
    " `marker=2` identifies $Γ_{right}$, `marker=3` identifies $Γ_{left}$ and `marker=1` identifies the Dirichlet boundary."
   ]
  },
  {
   "cell_type": "code",
   "execution_count": null,
   "metadata": {
    "id": "tX7A7k4tYW43"
   },
   "outputs": [],
   "source": [
    "domain = { 'SquareEdge': 1.0, 'VerticesBoundaryCondition': [1,1,1,1], 'EdgesBoundaryCondition': [1,2,1,3], 'DiscretizationType': 1, 'MeshCellsMaximumArea': meshSize }\n",
    "[meshInfo, mesh] = gedim.CreateDomainSquare(domain, lib)"
   ]
  },
  {
   "cell_type": "code",
   "execution_count": null,
   "metadata": {
    "id": "bNiO0Un-38om"
   },
   "outputs": [],
   "source": [
    "gedim.PlotMesh(mesh)"
   ]
  },
  {
   "cell_type": "markdown",
   "metadata": {
    "id": "jHQjoya_ZsAf"
   },
   "source": [
    "### Create Discrete Space FEM\n",
    "\n",
    "The boundary condition types are passed to the library during the creation of the discrete space.\n",
    "The types are the following:\n",
    "* `BoundaryConditionType=1`: internal mesh point;\n",
    "* `BoundaryConditionType=2`: strong boundary mesh point (Dirichlet in this example);\n",
    "* `BoundaryConditionType=3`: weak boundary mesh point (Neumann in this example).\n",
    "The array `BoundaryConditionType` describes for each `marker` the type of boundary condition associated.\n",
    "\n",
    "__NB__: the array has dimension `num_markers+1`, as the first element is associated to non-usable `marker=0`.\n",
    "\n",
    "__In this example__:\n",
    "\n",
    "we have $3$ different markers, thus `BoundaryConditionsType` has size $3+1=4$. In particular `marker=1` has type `BoundaryConditionsType[1]=2` (Dirichlet), `marker=2` has type `BoundaryConditionsType[2]=3` and `marker=3` (Neumann) has type `BoundaryConditionsType[3]=3` (Neumann)."
   ]
  },
  {
   "cell_type": "code",
   "execution_count": null,
   "metadata": {
    "id": "HzQr59tqZTvN"
   },
   "outputs": [],
   "source": [
    "discreteSpace = { 'Order': order, 'Type': 1, 'BoundaryConditionsType': [1, 2, 3, 3] }\n",
    "[problemData, dofs, strongs] = gedim.Discretize(discreteSpace, lib)"
   ]
  },
  {
   "cell_type": "code",
   "execution_count": null,
   "metadata": {
    "id": "SrsZqj6o4D_k"
   },
   "outputs": [],
   "source": [
    "gedim.PlotDofs(mesh, dofs, strongs)"
   ]
  },
  {
   "cell_type": "markdown",
   "metadata": {
    "id": "Xqp_ZBhOZoqD"
   },
   "source": [
    "### Assemble linear system"
   ]
  },
  {
   "cell_type": "code",
   "execution_count": null,
   "metadata": {
    "id": "k8kxI9HE4oIm"
   },
   "outputs": [],
   "source": [
    "[stiffness, stiffnessStrong] = gedim.AssembleStiffnessMatrix(Poisson_a, problemData, lib)\n",
    "\n",
    "[advection, advectionStrong] = gedim.AssembleAdvectionMatrix(Poisson_b, problemData, lib)\n",
    "\n",
    "[reaction, reactionStrong] = gedim.AssembleReactionMatrix(Poisson_c, problemData, lib)\n",
    "\n",
    "forcingTerm = gedim.AssembleForcingTerm(Poisson_f, problemData, lib)\n",
    "\n",
    "solutionStrong = gedim.AssembleStrongSolution(Poisson_strongTerm, 1, problemData, lib)\n",
    "\n",
    "weakTerm_right = gedim.AssembleWeakTerm(Poisson_weakTerm_right, 2, problemData, lib)\n",
    "weakTerm_left = gedim.AssembleWeakTerm(Poisson_weakTerm_left, 3, problemData, lib)"
   ]
  },
  {
   "cell_type": "markdown",
   "metadata": {
    "id": "ueyGr8b2ZxAk"
   },
   "source": [
    "### Solve linear system"
   ]
  },
  {
   "cell_type": "code",
   "execution_count": null,
   "metadata": {
    "id": "ntDW-FKIZuU3",
    "scrolled": true
   },
   "outputs": [],
   "source": [
    "solution = gedim.LUSolver(stiffness + advection + reaction, \\\n",
    "    forcingTerm - \\\n",
    "    (stiffnessStrong + advectionStrong + reactionStrong) @ solutionStrong + \\\n",
    "    weakTerm_right + \\\n",
    "    weakTerm_left, lib)"
   ]
  },
  {
   "cell_type": "code",
   "execution_count": null,
   "metadata": {
    "id": "gXeJV2jo4Gnt"
   },
   "outputs": [],
   "source": [
    "gedim.PlotSolution(mesh, dofs, strongs, solution, solutionStrong)"
   ]
  },
  {
   "cell_type": "code",
   "execution_count": null,
   "metadata": {},
   "outputs": [],
   "source": [
    "gedim.ExportSolution(Poisson_exactSolution, solution, solutionStrong, lib)"
   ]
  },
  {
   "cell_type": "markdown",
   "metadata": {
    "id": "Bk3wRkfXZ17s"
   },
   "source": [
    "### Compute errors"
   ]
  },
  {
   "cell_type": "code",
   "execution_count": null,
   "metadata": {
    "id": "k-nq8FPSZ0O0"
   },
   "outputs": [],
   "source": [
    "errorL2 = gedim.ComputeErrorL2(Poisson_exactSolution, solution, solutionStrong, lib)\n",
    "\n",
    "errorH1 = gedim.ComputeErrorH1(Poisson_exactDerivativeSolution, solution, solutionStrong, lib)\n",
    "\n",
    "print(\"dofs\", \"h\", \"errorL2\", \"errorH1\")\n",
    "print(problemData['NumberDOFs'], '{:.16e}'.format(problemData['H']), '{:.16e}'.format(errorL2), '{:.16e}'.format(errorH1))"
   ]
  }
 ],
 "metadata": {
  "colab": {
   "provenance": []
  },
  "kernelspec": {
   "display_name": "Python 3 (ipykernel)",
   "language": "python",
   "name": "python3"
  },
  "language_info": {
   "codemirror_mode": {
    "name": "ipython",
    "version": 3
   },
   "file_extension": ".py",
   "mimetype": "text/x-python",
   "name": "python",
   "nbconvert_exporter": "python",
   "pygments_lexer": "ipython3",
   "version": "3.10.13"
  }
 },
 "nbformat": 4,
 "nbformat_minor": 4
}
