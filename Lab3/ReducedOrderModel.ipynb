{
 "cells": [
  {
   "cell_type": "markdown",
   "metadata": {
    "id": "2IGuNCbv2QpF"
   },
   "source": [
    "# **Reduced Order Methods: an Introduction**\n",
    "\n",
    "In this Lab we are going to introduce the main aspects of a parametric problem and the features that allow us to deal with it by means of Reduced Order Methods (ROMs).\n",
    "\n",
    "First of all: ROMs are based on a Full Order Model (FOM). We can say also High Fidelity (HF) simulation.\n",
    "\n",
    "Thus, we **need** a *standard* solver based on *standard discretizations*: in out case linear FE solvers.\n",
    "\n",
    "Let us import the FOM library!"
   ]
  },
  {
   "cell_type": "code",
   "execution_count": null,
   "metadata": {},
   "outputs": [],
   "source": [
    "import sys\n",
    "sys.path.append('/content/CppToPython')"
   ]
  },
  {
   "cell_type": "code",
   "execution_count": null,
   "metadata": {
    "id": "BeaV-lky4gkR"
   },
   "outputs": [],
   "source": [
    "import numpy as np\n",
    "import GeDiM4Py as gedim"
   ]
  },
  {
   "cell_type": "code",
   "execution_count": null,
   "metadata": {
    "id": "13zM04WMQ5hJ"
   },
   "outputs": [],
   "source": [
    "lib = gedim.ImportLibrary(\"/content/CppToPython/release/GeDiM4Py.so\")\n",
    "\n",
    "config = { 'GeometricTolerance': 1.0e-8 }\n",
    "gedim.Initialize(config, lib)"
   ]
  },
  {
   "cell_type": "markdown",
   "metadata": {
    "id": "Ubq1Ge_iQkak"
   },
   "source": [
    "## The parametric version of the heat conductivity equation\n",
    "\n",
    "Solve the following equation on square ${\\Omega} = (-1, +1) \\times (-1, +1)$\n",
    "\n",
    "$$\n",
    "\\begin{cases}\n",
    "\\nabla \\cdot (k_{\\mu} \\nabla u) = 0 & \\text{in } \\Omega\\\\\n",
    "k_{\\mu} \\nabla u \\cdot n_1 = \\mu_2 & \\text{in } \\Gamma_{base}\\\\\n",
    "u = 0 & \\text{in } \\Gamma_{top}\\\\\n",
    "k_{\\mu} \\nabla u \\cdot n_2 = 0 & \\text{otherwise} \n",
    "\\end{cases}\n",
    "$$\n",
    "\n",
    "where $k_{\\mu} = \\mu_1$ if $x^2 + y^2 \\leq R^2$ and $k = 1$ otherwise. \n",
    "The parametric space is $\\mathcal P = [0.1, 10] \\times [-1,1]$.\n",
    "\n",
    "<img src=\"https://drive.google.com/uc?id=1j98eKPtRy8IqsLMKkue2dINRy6yNS20j\"\n",
    " style=\"float:center;width:50px;height:50px;\" align=\"center\">\n",
    "\n",
    "\n",
    "The parameter $\\boldsymbol \\mu \\in \\mathcal P$ is physical and changes the features of the flow: \n",
    "\n",
    "1. $\\mu_1$ the conductivity in $\\Omega_1$;\n",
    "2. $\\mu_2$ describes the heat flux in the bottom part of the boundary.\n",
    "\n",
    "First thing: we define two subdomains $\\Omega_1$ and $\\Omega_2$, such that\n",
    "1. $\\Omega_1$ is a disk in the origin with radius $r_0=0.5$, and\n",
    "2. $\\Omega_2=\\Omega/\\ \\overline{\\Omega_1}$.\n",
    "3. $\\Gamma_{base}$ to define where we will change the heat flux.\n",
    "\n",
    "For a more exhaustive description of the problem refer to [this tutorial](https://colab.research.google.com/github/RBniCS/RBniCS/blob/open-in-colab/tutorials/01_thermal_block/tutorial_thermal_block.ipynb) based on [RBniCS library](https://www.rbnicsproject.org/).\n",
    "\n",
    "\n",
    "\n"
   ]
  },
  {
   "cell_type": "code",
   "execution_count": null,
   "metadata": {
    "id": "JOPeoKRlRNMo"
   },
   "outputs": [],
   "source": [
    "def Heat_R():\n",
    "\treturn 0.5\n",
    "\n",
    "\n",
    "def Omega1(numPoints, points):\n",
    "\tmatPoints = gedim.make_nd_matrix(points, (3, numPoints), np.double)\n",
    "\tvalues = np.ones(numPoints)\n",
    "\tfor p in range(0, numPoints):\n",
    "\t\tif (matPoints[0,p] * matPoints[0,p] + matPoints[1,p] * matPoints[1,p]) > (Heat_R() * Heat_R() + 1.0e-16):\n",
    "\t\t\tvalues[p] = 0.\n",
    "\treturn values.ctypes.data\n",
    "\n",
    "def Omega2(numPoints, points):\n",
    "\tmatPoints = gedim.make_nd_matrix(points, (3, numPoints), np.double)\n",
    "\tvalues = np.ones(numPoints)\n",
    "\tfor p in range(0, numPoints):\n",
    "\t\tif (matPoints[0,p] * matPoints[0,p] + matPoints[1,p] * matPoints[1,p]) <= (Heat_R() * Heat_R() + 1.0e-16):\n",
    "\t\t\tvalues[p] = 0. \n",
    "\treturn values.ctypes.data\n",
    "\n",
    "def Gamma_base(numPoints, points):\n",
    "\tvalues = np.ones(numPoints)\n",
    "\treturn values.ctypes.data"
   ]
  },
  {
   "cell_type": "markdown",
   "metadata": {
    "id": "q9JEfUdDRH5W"
   },
   "source": [
    "**Define High Fidelity Simulation Parameters**:\n",
    "for a parametric problem we need not only the order of the discretization, but also the parametric space definition.\n",
    "\n"
   ]
  },
  {
   "cell_type": "code",
   "execution_count": null,
   "metadata": {
    "id": "nfzHSAXORH5X"
   },
   "outputs": [],
   "source": [
    "order = 2\n",
    "mu1_range = [0.1, 10.]\n",
    "mu2_range = [-1., 1.]"
   ]
  },
  {
   "cell_type": "markdown",
   "metadata": {
    "id": "CsFEtqOyRSEo"
   },
   "source": [
    "### Import Mesh"
   ]
  },
  {
   "cell_type": "code",
   "execution_count": null,
   "metadata": {
    "colab": {
     "base_uri": "https://localhost:8080/"
    },
    "id": "uZXNw6gDlHZt",
    "outputId": "1671b5bc-6113-439a-f9c0-6e39d43bd5f5"
   },
   "outputs": [],
   "source": [
    "%%writefile ImportMesh.csv\n",
    "InputFolderPath\n",
    "/content/CppToPython/Meshes/Mesh1"
   ]
  },
  {
   "cell_type": "code",
   "execution_count": null,
   "metadata": {
    "id": "gFrwWHkGRTcM"
   },
   "outputs": [],
   "source": [
    "[meshInfo, mesh] = gedim.ImportDomainMesh2D(lib)"
   ]
  },
  {
   "cell_type": "code",
   "execution_count": null,
   "metadata": {
    "colab": {
     "base_uri": "https://localhost:8080/",
     "height": 430
    },
    "id": "FifaSs5tRWLp",
    "outputId": "5c0b2621-f4f2-46b4-c9e1-183cbe8a5aaf"
   },
   "outputs": [],
   "source": [
    "gedim.PlotMesh(mesh)"
   ]
  },
  {
   "cell_type": "markdown",
   "metadata": {
    "id": "ZFLs55ZIRjRw"
   },
   "source": [
    "**Create Discrete Space FEM (the FOM approximation)**"
   ]
  },
  {
   "cell_type": "code",
   "execution_count": null,
   "metadata": {
    "id": "vtVL7IqnRlra"
   },
   "outputs": [],
   "source": [
    "discreteSpace = { 'Order': order, 'Type': 1, 'BoundaryConditionsType': [1, 3, 3, 2] }\n",
    "[problemData, dofs, strongs] = gedim.Discretize(discreteSpace, lib)"
   ]
  },
  {
   "cell_type": "code",
   "execution_count": null,
   "metadata": {
    "colab": {
     "base_uri": "https://localhost:8080/",
     "height": 430
    },
    "id": "tNKv663YRvMJ",
    "outputId": "5f8ba2d2-bb7b-438c-8747-704b1a2421be"
   },
   "outputs": [],
   "source": [
    "gedim.PlotDofs(mesh, dofs, strongs)"
   ]
  },
  {
   "cell_type": "markdown",
   "metadata": {
    "id": "9-GPibkUR0yD"
   },
   "source": [
    "### **Assemble linear system exploting affinity**\n",
    "\n",
    "To have a better understanding of the _affine decomposition_ let us define the _weak formulation_ of the problem:\n",
    "given $\\boldsymbol \\mu \\in matcal P$, find the solution $u(\\boldsymbol \\mu)$ that solves\n",
    "\n",
    "\n",
    "$$a\\left(u(\\boldsymbol{\\mu}),v;\\boldsymbol{\\mu}\\right)=f(v;\\boldsymbol{\\mu})\\quad \\forall v\\in\\mathbb{V}$$\n",
    "\n",
    "where\n",
    "\n",
    "* the function space is\n",
    "$$\n",
    "\\mathbb{V} = \\{v\\in H^1(\\Omega) : v|_{\\Gamma_{top}}=0\\},\n",
    "$$\n",
    "* the bilinear form $a(\\cdot, \\cdot; \\boldsymbol{\\mu}): \\mathbb{V} \\times \\mathbb{V} \\to \\mathbb{R}$ is \n",
    "$$a(u, v;\\boldsymbol{\\mu})=\\int_{\\Omega} \\kappa_\\mu \\nabla u\\cdot \\nabla v \\ d\\boldsymbol{x},$$\n",
    "* the parametrized forcing term $f(\\cdot; \\boldsymbol{\\mu}): \\mathbb{V} \\to \\mathbb{R}$ is\n",
    "$$f(v; \\boldsymbol{\\mu})= \\mu_1\\int_{\\Gamma_{base}}v \\ ds.$$\n",
    "\n",
    "We want to compute the solution for **many** parameters in the parametric space.\n",
    "\n",
    "Looking at the problem at hand, we notice that the system is _affine_!\n",
    "\n",
    "Namely, it can be written as \n",
    "$$\n",
    "\\sum_{i=1}^{q_a} \\theta_i^a(\\boldsymbol \\mu)a_i(u,v) = \\sum_{i=0}^{q_f} \\theta_i^f(\\boldsymbol \\mu)f_i(v),\n",
    "$$\n",
    "for $\\theta_i^a(\\boldsymbol \\mu)$ and $\\theta_i^f(\\boldsymbol \\mu)$ real functions and $q_a, q_f \\in \\mathbb N$. \n",
    "\n",
    "\n",
    "The separation of variables, i.e. $\\boldsymbol \\mu-$dependent and $\\boldsymbol \\mu-$independent quantities, is really useful to divide the ROM process under the _offline_-_online_ paradigm (more details in the next Lab).\n",
    "\n",
    "For now, let us focus on the FOM parametric version. Our problem is affine-decomposed in\n",
    "\n",
    "$$a(u,v;\\boldsymbol{\\mu})=\\underbrace{\\mu_1}_{\\Theta^{a}_1(\\boldsymbol{\\mu})}\\underbrace{\\int_{\\Omega_1}\\nabla u \\cdot \\nabla v \\ d\\boldsymbol{x}}_{a_1(u,v)} \\ + \\  \\underbrace{1}_{\\Theta^{a}_2(\\boldsymbol{\\mu})}\\underbrace{\\int_{\\Omega_2}\\nabla u \\cdot \\nabla v \\ d\\boldsymbol{x}}_{a_2(u,v)},$$\n",
    "$$f(v; \\boldsymbol{\\mu}) = \\underbrace{\\mu_2}_{\\Theta^{f}_1(\\boldsymbol{\\mu})} \\underbrace{\\int_{\\Gamma_{base}}v \\ ds}_{f_1(v)}.$$\n",
    "\n",
    "\n"
   ]
  },
  {
   "cell_type": "markdown",
   "metadata": {
    "id": "SIHon1hcooVd"
   },
   "source": [
    "Let us define $\\theta_i^a(\\boldsymbol \\mu)$ and $\\theta_1^f(\\boldsymbol \\mu)$, for $i \\in \\{1,2\\}$ with some numbers in the parametric range. "
   ]
  },
  {
   "cell_type": "code",
   "execution_count": null,
   "metadata": {
    "id": "I2dzS4-3dZm2"
   },
   "outputs": [],
   "source": [
    "thetaA1 = 1.\n",
    "thetaA2 = 6.68\n",
    "thetaf1 = 0.94"
   ]
  },
  {
   "cell_type": "markdown",
   "metadata": {
    "id": "fKwf2KcMo-gR"
   },
   "source": [
    "Let us define $a_1(u,v)$, $a_2(u,v)$ and $f(v)$,"
   ]
  },
  {
   "cell_type": "code",
   "execution_count": null,
   "metadata": {
    "id": "g7XmYDOGR1m4"
   },
   "outputs": [],
   "source": [
    "\n",
    "[stiffness1, stiffnessStrong1] = gedim.AssembleStiffnessMatrix(Omega2, problemData, lib)\n",
    "[stiffness2, stiffnessStrong2] = gedim.AssembleStiffnessMatrix(Omega1, problemData, lib)\n",
    "\t\n",
    "weakTerm_down1 = gedim.AssembleWeakTerm(Gamma_base, 1, problemData, lib)"
   ]
  },
  {
   "cell_type": "markdown",
   "metadata": {
    "id": "uXHFCGPOpVq5"
   },
   "source": [
    "and, finally, let us solve $a(u,v; \\boldsymbol \\mu) = f(v; \\boldsymbol \\mu)$."
   ]
  },
  {
   "cell_type": "code",
   "execution_count": null,
   "metadata": {
    "id": "DJDt8TvQdW8Z"
   },
   "outputs": [],
   "source": [
    "a_mu = thetaA1*stiffness1 + thetaA2*stiffness2\n",
    "f_mu = thetaf1*weakTerm_down1"
   ]
  },
  {
   "cell_type": "code",
   "execution_count": null,
   "metadata": {
    "id": "DfINEnRbR_31"
   },
   "outputs": [],
   "source": [
    "solution = gedim.LUSolver(a_mu, f_mu, lib)"
   ]
  },
  {
   "cell_type": "code",
   "execution_count": null,
   "metadata": {
    "colab": {
     "base_uri": "https://localhost:8080/",
     "height": 406
    },
    "id": "W6Qajo4RSDLC",
    "outputId": "96b86819-ea9a-4aef-d9bd-630a5bcb0437"
   },
   "outputs": [],
   "source": [
    "gedim.PlotSolution(mesh, dofs, strongs, solution, np.zeros(problemData['NumberStrongs']))"
   ]
  },
  {
   "cell_type": "markdown",
   "metadata": {
    "id": "v3miMPjNrVJZ"
   },
   "source": [
    "## **Let us do another exercise together** ##\n",
    "\n",
    "Solve the following equation on square ${\\Omega} = (-1, +1) \\times (-1, +1)$\n",
    "\n",
    "$$\n",
    "\\begin{cases}\n",
    "\\nabla \\cdot (k_{\\mu} \\nabla u) + \\beta_\\mu x(1-x) \\frac {\\partial}{\\partial x}u = f & \\text{in } \\Omega\\\\\n",
    "u = 0 & \\text{in } \\Gamma_{top}\\\\\n",
    "k_{\\mu} \\nabla u \\cdot n_2 = 0 & \\text{otherwise} \n",
    "\\end{cases}\n",
    "$$\n",
    "\n",
    "where $k_\\mu = \\mu_i \\in \\Omega_i$ and $\\beta_\\mu = \\mu_{4 + i} \\in \\Omega_i$ for $i \\in \\{1, \\dots, 4\\}$\n",
    "The parametric space is $\\mathcal P = [0.1, 5]^4 \\times [1, 10]^4$. The forcing term is $f \\equiv 10$.\n",
    "\n",
    "<img src=\"https://drive.google.com/uc?id=1aFusZvSGlO6wDFXCjyq7zp4lsIycw2ac\"\n",
    " style=\"float:center;width:1px;height:1px;\" align=\"center\" width=\"300\">\n",
    "\n",
    "\n",
    "\n",
    "\n",
    "\n",
    "\n"
   ]
  },
  {
   "cell_type": "markdown",
   "metadata": {
    "id": "SVZh44xwySlF"
   },
   "source": [
    "Let us define the nodes of the boundary and the subdomains."
   ]
  },
  {
   "cell_type": "code",
   "execution_count": null,
   "metadata": {
    "id": "jOrYDq6Ur8bn"
   },
   "outputs": [],
   "source": [
    "def Poisson_f(numPoints, points):\n",
    "\tvalues = 10*np.ones(numPoints)\n",
    "\treturn values.ctypes.data\n",
    "\n",
    "def Omega1_stiff(numPoints, points):\n",
    "\tmatPoints = gedim.make_nd_matrix(points, (3, numPoints), np.double)\n",
    "\tvalues = np.zeros(numPoints)\n",
    "\tfor p in range(0, numPoints):\n",
    "\t\tif ((matPoints[0,p]) <= 0) & ((matPoints[1,p])<= 0.):\n",
    "\t\t\tvalues[p] = 1. \n",
    "\treturn values.ctypes.data  \n",
    "\n",
    "def Omega1_adv(numPoints, points):\n",
    "\tmatPoints = gedim.make_nd_matrix(points, (3, numPoints), np.double)\n",
    "\tvalues = np.zeros(numPoints)\n",
    "\tfor p in range(0, numPoints):\n",
    "\t\tif ((matPoints[0,p]) <= 0.) & ((matPoints[1,p]) <= 0.):\n",
    "\t\t\tvalues[p] = (matPoints[0,p] * (1.0 - matPoints[0,p]))\n",
    "\treturn values.ctypes.data  \n",
    "\n",
    "def Omega2_stiff(numPoints, points):\n",
    "\tmatPoints = gedim.make_nd_matrix(points, (3, numPoints), np.double)\n",
    "\tvalues = np.zeros(numPoints)\n",
    "\tfor p in range(0, numPoints):\n",
    "\t\tif ((matPoints[0,p]) > 0.) & ((matPoints[1,p])<= 0.):\n",
    "\t\t\tvalues[p] = 1.\n",
    "\treturn values.ctypes.data  \n",
    "\n",
    "def Omega2_adv(numPoints, points):\n",
    "\tmatPoints = gedim.make_nd_matrix(points, (3, numPoints), np.double)\n",
    "\tvalues = np.zeros(numPoints)\n",
    "\tfor p in range(0, numPoints):\n",
    "\t\tif ((matPoints[0,p]) > 0.) & ((matPoints[1,p])<= 0.):\n",
    "\t\t\tvalues[p] = (matPoints[0,p] * (1.0 - matPoints[0,p]))\n",
    "\treturn values.ctypes.data  \n",
    "\n",
    "\n",
    "def Omega3_stiff(numPoints, points):\n",
    "\tmatPoints = gedim.make_nd_matrix(points, (3, numPoints), np.double)\n",
    "\tvalues = np.zeros(numPoints)\n",
    "\tfor p in range(0, numPoints):\n",
    "\t\tif ((matPoints[0,p]) <= 0) & ((matPoints[1,p])> 0.):\n",
    "\t\t\tvalues[p] = 1. ### qui cambia\n",
    "\treturn values.ctypes.data  \n",
    "\n",
    "def Omega3_adv(numPoints, points):\n",
    "\tmatPoints = gedim.make_nd_matrix(points, (3, numPoints), np.double)\n",
    "\tvalues = np.zeros(numPoints)\n",
    "\tfor p in range(0, numPoints):\n",
    "\t\tif ((matPoints[0,p]) <= 0) & ((matPoints[1,p])> 0.):\n",
    "\t\t\tvalues[p] = (matPoints[0,p] * (1.0 - matPoints[0,p]))\n",
    "\treturn values.ctypes.data  \n",
    "\n",
    "def Omega4_stiff(numPoints, points):\n",
    "\tmatPoints = gedim.make_nd_matrix(points, (3, numPoints), np.double)\n",
    "\tvalues = np.zeros(numPoints)\n",
    "\tfor p in range(0, numPoints):\n",
    "\t\tif ((matPoints[0,p]) > 0.) & ((matPoints[1,p]) > 0.):\n",
    "\t\t\tvalues[p] = 1. ### qui cambia\n",
    "\treturn values.ctypes.data  \n",
    "\n",
    "def Omega4_adv(numPoints, points):\n",
    "\tmatPoints = gedim.make_nd_matrix(points, (3, numPoints), np.double)\n",
    "\tvalues = np.zeros(numPoints)\n",
    "\tfor p in range(0, numPoints):\n",
    "\t\tif ((matPoints[0,p]) > 0.) & ((matPoints[1,p]) > 0.):\n",
    "\t\t\tvalues[p] = (matPoints[0,p] * (1.0 - matPoints[0,p]))\n",
    "\treturn values.ctypes.data \n"
   ]
  },
  {
   "cell_type": "markdown",
   "metadata": {
    "id": "21CNqBXKyplV"
   },
   "source": [
    "Also in this case we have an affine decomposition:\n",
    "\n",
    "$$a(u,v;\\boldsymbol{\\mu})=\n",
    "\\sum_{i = 1}^4 \\underbrace{\\mu_i}_{\\Theta^{a}_i(\\boldsymbol{\\mu}) \\text{ for } i \\in \\{1, \\dots, 4\\}}\\underbrace{\\int_{\\Omega_i}\\nabla u \\cdot \\nabla v \\ d\\boldsymbol{x}}_{a_i(u,v) \\text{ for } i \\in \\{1, \\dots, 4\\}} \\ + \\sum_{i = 5}^8 \\underbrace{\\mu_i}_{\\Theta^{a}_i(\\boldsymbol{\\mu}) \\text{ for } i \\in \\{5, \\dots, 8\\}}\\underbrace{\\int_{\\Omega_i}x(1-x)\\frac{\\partial}{\\partial x} u \\cdot v \\ d\\boldsymbol{x}}_{a_i(u,v) \\text{ for } i \\in \\{5, \\dots, 8\\}}$$\n",
    "$$f(v; \\boldsymbol{\\mu}) = \\underbrace{10}_{\\Theta^{f}_1(\\boldsymbol{\\mu})} \\underbrace{\\int_{\\Omega}v \\ ds}_{f_1(v)}.$$"
   ]
  },
  {
   "cell_type": "markdown",
   "metadata": {
    "id": "AFf8apXOiak_"
   },
   "source": [
    "Let us define the bilinear forms and the forcing term."
   ]
  },
  {
   "cell_type": "code",
   "execution_count": null,
   "metadata": {
    "id": "2cHZrxOQtfkC"
   },
   "outputs": [],
   "source": [
    "[stiffness1, stiffnessStrong1] = gedim.AssembleStiffnessMatrix(Omega1_stiff, problemData, lib)\n",
    "[stiffness2, stiffnessStrong2] = gedim.AssembleStiffnessMatrix(Omega2_stiff, problemData, lib)\n",
    "[stiffness3, stiffnessStrong3] = gedim.AssembleStiffnessMatrix(Omega3_stiff, problemData, lib)\n",
    "[stiffness4, stiffnessStrong4] = gedim.AssembleStiffnessMatrix(Omega4_stiff, problemData, lib)\n",
    "\n",
    "[advection1, advectionStrong1] = gedim.AssembleAdvectionMatrix(Omega1_adv, problemData, lib)\n",
    "[advection2, advectionStrong2] = gedim.AssembleAdvectionMatrix(Omega2_adv, problemData, lib)\n",
    "[advection3, advectionStrong3] = gedim.AssembleAdvectionMatrix(Omega3_adv, problemData, lib)\n",
    "[advection4, advectionStrong4] = gedim.AssembleAdvectionMatrix(Omega4_adv, problemData, lib)\n",
    "\n",
    "forcingTerm = gedim.AssembleForcingTerm(Poisson_f, problemData, lib)\n"
   ]
  },
  {
   "cell_type": "markdown",
   "metadata": {
    "id": "sesv-DLM0paV"
   },
   "source": [
    "Let us define the ``thetas``."
   ]
  },
  {
   "cell_type": "code",
   "execution_count": null,
   "metadata": {
    "id": "LFfr9ay60pGq"
   },
   "outputs": [],
   "source": [
    "#thetas\n",
    "thetaA1 = 1\n",
    "thetaA2 = 2\n",
    "thetaA3 = 3\n",
    "thetaA4 = 4\n",
    "thetaA5 = 10\n",
    "thetaA6 = 10\n",
    "thetaA7 = 1\n",
    "thetaA8 = 10\n",
    "# thetaf1 = already assembled    "
   ]
  },
  {
   "cell_type": "code",
   "execution_count": null,
   "metadata": {
    "id": "RBmkKRaWuC0O"
   },
   "outputs": [],
   "source": [
    "stiffness = thetaA1*stiffness1  + thetaA2*stiffness2 + thetaA3*stiffness3 + thetaA4*stiffness4\n",
    "advection = thetaA5*advection1 + thetaA6*advection2 + thetaA7*advection3 + thetaA8*advection4\n",
    " \n",
    "lhs = stiffness + advection"
   ]
  },
  {
   "cell_type": "code",
   "execution_count": null,
   "metadata": {
    "id": "DlK73nUfuJDh"
   },
   "outputs": [],
   "source": [
    "stiffnessStrong = thetaA1*stiffnessStrong1 + thetaA2*stiffnessStrong2 + thetaA3*stiffnessStrong3 + thetaA4*stiffnessStrong4\n",
    "advectionStrong = thetaA5*advectionStrong1 + thetaA6*advectionStrong2 + thetaA7*advectionStrong3 + thetaA8*advectionStrong4\n",
    "\n",
    "rhs = forcingTerm"
   ]
  },
  {
   "cell_type": "markdown",
   "metadata": {
    "id": "-ecrhIxLiflW"
   },
   "source": [
    "Finally, let us solve the system."
   ]
  },
  {
   "cell_type": "code",
   "execution_count": null,
   "metadata": {
    "id": "DKfwDXd2uj0G"
   },
   "outputs": [],
   "source": [
    "solution = gedim.LUSolver(lhs, rhs, lib)"
   ]
  },
  {
   "cell_type": "code",
   "execution_count": null,
   "metadata": {
    "colab": {
     "base_uri": "https://localhost:8080/",
     "height": 406
    },
    "id": "V13M-Znovtuk",
    "outputId": "06e834f1-0bc5-4d15-e877-8c52323b32d0"
   },
   "outputs": [],
   "source": [
    "gedim.PlotSolution(mesh, dofs, strongs, solution, np.zeros(problemData['NumberStrongs']))"
   ]
  },
  {
   "cell_type": "markdown",
   "metadata": {
    "id": "9ORB1GQrB_BX"
   },
   "source": [
    "Solve the same problem with $u=2$ on $\\Gamma_{top}$."
   ]
  },
  {
   "cell_type": "code",
   "execution_count": null,
   "metadata": {
    "id": "Uzkgz_bmAsb0"
   },
   "outputs": [],
   "source": [
    "######################## Define the boundary condition as a vector of 2 #####################\n",
    "\n",
    "def Dirichlet_BoundaryTerm(numPoints, points):\n",
    "\tvalues = 2*np.ones(numPoints)\n",
    "\treturn values.ctypes.data\n",
    "\n",
    "############################################################################################\n",
    "\n",
    "def Poisson_f(numPoints, points):\n",
    "\tvalues = 10*np.ones(numPoints)\n",
    "\treturn values.ctypes.data\n",
    "\n",
    "def Omega1_stiff(numPoints, points):\n",
    "\tmatPoints = gedim.make_nd_matrix(points, (3, numPoints), np.double)\n",
    "\tvalues = np.zeros(numPoints)\n",
    "\tfor p in range(0, numPoints):\n",
    "\t\tif ((matPoints[0,p]) <= 0) & ((matPoints[1,p])<= 0.):\n",
    "\t\t\tvalues[p] = 1. \n",
    "\treturn values.ctypes.data  \n",
    "\n",
    "def Omega1_adv(numPoints, points):\n",
    "\tmatPoints = gedim.make_nd_matrix(points, (3, numPoints), np.double)\n",
    "\tvalues = np.zeros(numPoints)\n",
    "\tfor p in range(0, numPoints):\n",
    "\t\tif ((matPoints[0,p]) <= 0.) & ((matPoints[1,p]) <= 0.):\n",
    "\t\t\tvalues[p] = (matPoints[0,p] * (1.0 - matPoints[0,p]))\n",
    "\treturn values.ctypes.data  \n",
    "\n",
    "def Omega2_stiff(numPoints, points):\n",
    "\tmatPoints = gedim.make_nd_matrix(points, (3, numPoints), np.double)\n",
    "\tvalues = np.zeros(numPoints)\n",
    "\tfor p in range(0, numPoints):\n",
    "\t\tif ((matPoints[0,p]) > 0.) & ((matPoints[1,p])<= 0.):\n",
    "\t\t\tvalues[p] = 1.\n",
    "\treturn values.ctypes.data  \n",
    "\n",
    "def Omega2_adv(numPoints, points):\n",
    "\tmatPoints = gedim.make_nd_matrix(points, (3, numPoints), np.double)\n",
    "\tvalues = np.zeros(numPoints)\n",
    "\tfor p in range(0, numPoints):\n",
    "\t\tif ((matPoints[0,p]) > 0.) & ((matPoints[1,p])<= 0.):\n",
    "\t\t\tvalues[p] = (matPoints[0,p] * (1.0 - matPoints[0,p]))\n",
    "\treturn values.ctypes.data  \n",
    "\n",
    "\n",
    "def Omega3_stiff(numPoints, points):\n",
    "\tmatPoints = gedim.make_nd_matrix(points, (3, numPoints), np.double)\n",
    "\tvalues = np.zeros(numPoints)\n",
    "\tfor p in range(0, numPoints):\n",
    "\t\tif ((matPoints[0,p]) <= 0) & ((matPoints[1,p])> 0.):\n",
    "\t\t\tvalues[p] = 1. ### qui cambia\n",
    "\treturn values.ctypes.data  \n",
    "\n",
    "def Omega3_adv(numPoints, points):\n",
    "\tmatPoints = gedim.make_nd_matrix(points, (3, numPoints), np.double)\n",
    "\tvalues = np.zeros(numPoints)\n",
    "\tfor p in range(0, numPoints):\n",
    "\t\tif ((matPoints[0,p]) <= 0) & ((matPoints[1,p])> 0.):\n",
    "\t\t\tvalues[p] = (matPoints[0,p] * (1.0 - matPoints[0,p]))\n",
    "\treturn values.ctypes.data  \n",
    "\n",
    "def Omega4_stiff(numPoints, points):\n",
    "\tmatPoints = gedim.make_nd_matrix(points, (3, numPoints), np.double)\n",
    "\tvalues = np.zeros(numPoints)\n",
    "\tfor p in range(0, numPoints):\n",
    "\t\tif ((matPoints[0,p]) > 0.) & ((matPoints[1,p]) > 0.):\n",
    "\t\t\tvalues[p] = 1. ### qui cambia\n",
    "\treturn values.ctypes.data  \n",
    "\n",
    "def Omega4_adv(numPoints, points):\n",
    "\tmatPoints = gedim.make_nd_matrix(points, (3, numPoints), np.double)\n",
    "\tvalues = np.zeros(numPoints)\n",
    "\tfor p in range(0, numPoints):\n",
    "\t\tif ((matPoints[0,p]) > 0.) & ((matPoints[1,p]) > 0.):\n",
    "\t\t\tvalues[p] = (matPoints[0,p] * (1.0 - matPoints[0,p]))\n",
    "\treturn values.ctypes.data \n"
   ]
  },
  {
   "cell_type": "markdown",
   "metadata": {
    "id": "_9GS4odLAscF"
   },
   "source": [
    "Also in this case we have an affine decomposition:\n",
    "\n",
    "$$a(u,v;\\boldsymbol{\\mu})=\n",
    "\\sum_{i = 1}^4 \\underbrace{\\mu_i}_{\\Theta^{a}_i(\\boldsymbol{\\mu}) \\text{ for } i \\in \\{1, \\dots, 4\\}}\\underbrace{\\int_{\\Omega_i}\\nabla u \\cdot \\nabla v \\ d\\boldsymbol{x}}_{a_i(u,v) \\text{ for } i \\in \\{5, \\dots, 8\\}} \\ + \\sum_{i = 1}^4 \\underbrace{\\mu_i}_{\\Theta^{a}_i(\\boldsymbol{\\mu}) \\text{ for } i \\in \\{5, \\dots, 8\\}}\\underbrace{\\int_{\\Omega_i}x(1-x)\\frac{\\partial}{\\partial x} u \\cdot v \\ d\\boldsymbol{x}}_{a_i(u,v) \\text{ for } i \\in \\{1, \\dots, 4\\}}$$\n",
    "$$f(v; \\boldsymbol{\\mu}) = \\underbrace{10}_{\\Theta^{f}_1(\\boldsymbol{\\mu})} \\underbrace{\\int_{\\Omega}v \\ ds}_{f_1(v)}.$$"
   ]
  },
  {
   "cell_type": "markdown",
   "metadata": {
    "id": "zRJZf3NOAscG"
   },
   "source": [
    "Let us define the bilinear forms and the forcing term."
   ]
  },
  {
   "cell_type": "code",
   "execution_count": null,
   "metadata": {
    "id": "WDDdi1w0AscG"
   },
   "outputs": [],
   "source": [
    "[stiffness1, stiffnessStrong1] = gedim.AssembleStiffnessMatrix(Omega1_stiff, problemData, lib)\n",
    "[stiffness2, stiffnessStrong2] = gedim.AssembleStiffnessMatrix(Omega2_stiff, problemData, lib)\n",
    "[stiffness3, stiffnessStrong3] = gedim.AssembleStiffnessMatrix(Omega3_stiff, problemData, lib)\n",
    "[stiffness4, stiffnessStrong4] = gedim.AssembleStiffnessMatrix(Omega4_stiff, problemData, lib)\n",
    "\n",
    "[advection1, advectionStrong1] = gedim.AssembleAdvectionMatrix(Omega1_adv, problemData, lib)\n",
    "[advection2, advectionStrong2] = gedim.AssembleAdvectionMatrix(Omega2_adv, problemData, lib)\n",
    "[advection3, advectionStrong3] = gedim.AssembleAdvectionMatrix(Omega3_adv, problemData, lib)\n",
    "[advection4, advectionStrong4] = gedim.AssembleAdvectionMatrix(Omega4_adv, problemData, lib)\n",
    "\n",
    "forcingTerm = gedim.AssembleForcingTerm(Poisson_f, problemData, lib)\n",
    "\n",
    "#### computing the boundary condition. ATTENTION: 3 is the label of the mesh, in out case is \\Gamma_down = 1, \\Gamma_side = 2 and \\Gamma_top = 3\n",
    "DirichletTerm = gedim.AssembleStrongSolution(Dirichlet_BoundaryTerm, 3, problemData, lib)\n",
    "####\n"
   ]
  },
  {
   "cell_type": "markdown",
   "metadata": {
    "id": "ZabEOS_iAscH"
   },
   "source": [
    "Let us define the ``thetas``."
   ]
  },
  {
   "cell_type": "code",
   "execution_count": null,
   "metadata": {
    "id": "idylPYImAscH"
   },
   "outputs": [],
   "source": [
    "#thetas\n",
    "thetaA1 = 1\n",
    "thetaA2 = 2\n",
    "thetaA3 = 3\n",
    "thetaA4 = 4\n",
    "thetaA5 = 10\n",
    "thetaA6 = 10\n",
    "thetaA7 = 1\n",
    "thetaA8 = 10\n",
    "# thetaf1 = already assembled    "
   ]
  },
  {
   "cell_type": "code",
   "execution_count": null,
   "metadata": {
    "id": "jCecscrGAscH"
   },
   "outputs": [],
   "source": [
    "stiffness = thetaA1*stiffness1  + thetaA2*stiffness2 + thetaA3*stiffness3 + thetaA4*stiffness4\n",
    "advection = thetaA5*advection1 + thetaA6*advection2 + thetaA7*advection3 + thetaA8*advection4\n",
    " \n",
    "lhs = stiffness + advection"
   ]
  },
  {
   "cell_type": "code",
   "execution_count": null,
   "metadata": {
    "id": "i4oUzt7CAscH"
   },
   "outputs": [],
   "source": [
    "stiffnessStrong = thetaA1*stiffnessStrong1 + thetaA2*stiffnessStrong2 + thetaA3*stiffnessStrong3 + thetaA4*stiffnessStrong4\n",
    "advectionStrong = thetaA5*advectionStrong1 + thetaA6*advectionStrong2 + thetaA7*advectionStrong3 + thetaA8*advectionStrong4\n",
    "\n",
    "######### Change the RHS with the dirichlet term \n",
    "rhs = forcingTerm - (stiffnessStrong + advectionStrong ) @ DirichletTerm \n",
    "################"
   ]
  },
  {
   "cell_type": "markdown",
   "metadata": {
    "id": "mknpI_5bAscI"
   },
   "source": [
    "Finally, let us solve the system."
   ]
  },
  {
   "cell_type": "code",
   "execution_count": null,
   "metadata": {
    "colab": {
     "base_uri": "https://localhost:8080/"
    },
    "id": "Jz1oMbbUAscI",
    "outputId": "83a94fde-b5ac-4885-8732-30a2a223e05e"
   },
   "outputs": [],
   "source": [
    "solution = gedim.LUSolver(lhs, rhs, lib)\n",
    "print(max(solution))"
   ]
  },
  {
   "cell_type": "code",
   "execution_count": null,
   "metadata": {
    "colab": {
     "base_uri": "https://localhost:8080/",
     "height": 406
    },
    "id": "MAZNMYcIAscJ",
    "outputId": "0dc4bbb6-30bf-42d1-d42e-db177e029635"
   },
   "outputs": [],
   "source": [
    "gedim.PlotSolution(mesh, dofs, strongs, solution, DirichletTerm) ### the last argument is the Dirichlet term"
   ]
  }
 ],
 "metadata": {
  "colab": {
   "provenance": []
  },
  "kernelspec": {
   "display_name": "Python 3 (ipykernel)",
   "language": "python",
   "name": "python3"
  },
  "language_info": {
   "codemirror_mode": {
    "name": "ipython",
    "version": 3
   },
   "file_extension": ".py",
   "mimetype": "text/x-python",
   "name": "python",
   "nbconvert_exporter": "python",
   "pygments_lexer": "ipython3",
   "version": "3.10.13"
  }
 },
 "nbformat": 4,
 "nbformat_minor": 4
}
