{
 "cells": [
  {
   "cell_type": "markdown",
   "metadata": {
    "id": "gv51c3F0VsrT"
   },
   "source": [
    "# **Overfitting**\n",
    "\n",
    "**Disclaimer**: large parts of the lab are taken from [this webpage](https://deeplearning.neuromatch.io/tutorials/W2D1_Regularization/student/W2D1_Tutorial1.html)."
   ]
  },
  {
   "cell_type": "code",
   "execution_count": 1,
   "metadata": {
    "id": "ZS5biDytTG3i"
   },
   "outputs": [],
   "source": [
    "# Imports\n",
    "import time\n",
    "import copy\n",
    "import torch\n",
    "import pathlib\n",
    "\n",
    "import numpy as np\n",
    "import torch.nn as nn\n",
    "import torch.optim as optim\n",
    "import torch.nn.functional as F\n",
    "import matplotlib.pyplot as plt\n",
    "import matplotlib.animation as animation\n",
    "\n",
    "from tqdm.auto import tqdm\n",
    "from IPython.display import HTML\n",
    "from torchvision import transforms\n",
    "from torchvision.datasets import ImageFolder"
   ]
  },
  {
   "attachments": {},
   "cell_type": "markdown",
   "metadata": {
    "id": "xNRiabVkW6dC"
   },
   "source": [
    "Let us create a synthetic _noisy_ dataset that we will use to illustrate overfitting in neural networks (the actual fit wuould be linear)!\n",
    "\n",
    "**Question time**: do you know why we use the fixed seed?"
   ]
  },
  {
   "cell_type": "code",
   "execution_count": 2,
   "metadata": {
    "colab": {
     "base_uri": "https://localhost:8080/",
     "height": 404
    },
    "id": "pHgaIwHVTm0f",
    "outputId": "0d5b1f21-8635-44b9-8c3a-fd5d371bc95c"
   },
   "outputs": [
    {
     "data": {
      "image/png": "[encoded data removed]",
      "text/plain": [
       "<Figure size 800x600 with 1 Axes>"
      ]
     },
     "metadata": {},
     "output_type": "display_data"
    }
   ],
   "source": [
    "seed_num = 2021 \n",
    "\n",
    "torch.manual_seed(seed_num)\n",
    "if torch.cuda.is_available():\n",
    "    torch.cuda.manual_seed_all(seed_num)\n",
    "\n",
    "# Creating train data\n",
    "# Input\n",
    "X = torch.rand((10, 1))\n",
    "# Output\n",
    "Y = 2*X + 2*torch.empty((X.shape[0], 1)).normal_(mean=0, std=1)  # Adding small error in the data\n",
    "# Visualizing train data\n",
    "plt.figure(figsize=(8, 6))\n",
    "plt.scatter(X.numpy(),Y.numpy())\n",
    "plt.xlabel('input (x)')\n",
    "plt.ylabel('output(y)')\n",
    "plt.title('toy dataset')\n",
    "plt.show()\n",
    "\n",
    "# Creating test dataset\n",
    "X_test = torch.linspace(0, 1, 40)\n",
    "X_test = X_test.reshape((40, 1, 1))"
   ]
  },
  {
   "cell_type": "markdown",
   "metadata": {
    "id": "zZ-sru2xXtt5"
   },
   "source": [
    "Let us build a _overparametrized_ structure by means of ``pytorch`` and define the optimizer and the parameters of our model."
   ]
  },
  {
   "cell_type": "code",
   "execution_count": 3,
   "metadata": {
    "id": "lzc41IddVWqp"
   },
   "outputs": [],
   "source": [
    "class Net(nn.Module):\n",
    "  \"\"\"\n",
    "  Network Class - 2D with following structure\n",
    "  nn.Linear(1, 300) + leaky_relu(self.fc1(x)) # First fully connected layer\n",
    "  nn.Linear(300, 500) + leaky_relu(self.fc2(x)) # Second fully connected layer\n",
    "  nn.Linear(500, 1) # Final fully connected layer\n",
    "  \"\"\"\n",
    "\n",
    "  def __init__(self):\n",
    "    \"\"\"\n",
    "    Initialize parameters of Net\n",
    "\n",
    "    Args:\n",
    "      None\n",
    "\n",
    "    Returns:\n",
    "      Nothing\n",
    "    \"\"\"\n",
    "    super(Net, self).__init__()\n",
    "\n",
    "    self.fc1 = nn.Linear(1, 300)\n",
    "    self.fc2 = nn.Linear(300, 500)\n",
    "    self.fc3 = nn.Linear(500, 1)\n",
    "\n",
    "  def forward(self, x):\n",
    "    \"\"\"\n",
    "    Forward pass of Net\n",
    "\n",
    "    Args:\n",
    "      x: torch.tensor\n",
    "        Input features\n",
    "\n",
    "    Returns:\n",
    "      x: torch.tensor\n",
    "        Output/Predictions\n",
    "    \"\"\"\n",
    "    x = F.leaky_relu(self.fc1(x))\n",
    "    x = F.leaky_relu(self.fc2(x))\n",
    "    output = self.fc3(x)\n",
    "    return output"
   ]
  },
  {
   "cell_type": "code",
   "execution_count": 4,
   "metadata": {
    "id": "GNOP4kVXVX7U"
   },
   "outputs": [],
   "source": [
    "torch.manual_seed(seed_num)\n",
    "if torch.cuda.is_available():\n",
    "    torch.cuda.manual_seed_all(seed_num)\n",
    "\n",
    "# Train the network on toy dataset\n",
    "model = Net()\n",
    "\n",
    "criterion = nn.MSELoss()\n",
    "optimizer = optim.Adam(model.parameters(), lr=1e-4)\n",
    "\n",
    "iters = 0\n",
    "# Calculates frobenius before training\n",
    "# normi, wsi, label = calculate_frobenius_norm(model)"
   ]
  },
  {
   "attachments": {},
   "cell_type": "markdown",
   "metadata": {
    "id": "NISPrIMNYUS8"
   },
   "source": [
    "Let us train our model!!"
   ]
  },
  {
   "cell_type": "code",
   "execution_count": 5,
   "metadata": {
    "colab": {
     "base_uri": "https://localhost:8080/",
     "height": 49,
     "referenced_widgets": [
      "83642854a64c4a028bd100fb4f345ef7",
      "e575829a8f8f423b8c09a2c57b8067a1",
      "689d8ce08f004b6099bf422258b26f0b",
      "7d5281c09e9f41138b6ff8681d704d12",
      "479e97eafd3d4050ab8ca4b820d660f5",
      "2ffa3e8f40974382a9d50622235672ba",
      "7a1c7a76c2ba4800bfff430e961523af",
      "0377678cba84406f8ba49de382f5770f",
      "2cd9a131a0104a198b13200c7434471f",
      "8b4a2d6c82d947fd80db1b9842f2aeba",
      "a6c65da5998f4728800905187bde8637"
     ]
    },
    "id": "N1Ru6jlRWLQM",
    "outputId": "953d082f-52e4-468d-f269-63473bafb68e"
   },
   "outputs": [
    {
     "data": {
      "application/vnd.jupyter.widget-view+json": {
       "model_id": "d237f3e565be467a8445d07b846e46c7",
       "version_major": 2,
       "version_minor": 0
      },
      "text/plain": [
       "  0%|          | 0/10000 [00:00<?, ?it/s]"
      ]
     },
     "metadata": {},
     "output_type": "display_data"
    }
   ],
   "source": [
    "torch.manual_seed(seed_num)\n",
    "if torch.cuda.is_available():\n",
    "    torch.cuda.manual_seed_all(seed_num)\n",
    "\n",
    "# Initializing variables\n",
    "# Losses\n",
    "train_loss = []\n",
    "test_loss = []\n",
    "\n",
    "# Model norm\n",
    "model_norm = []\n",
    "\n",
    "# Initializing variables to store weights\n",
    "norm_per_layer = []\n",
    "\n",
    "max_epochs = 10000\n",
    "\n",
    "running_predictions = np.empty((40, int(max_epochs / 500 + 1)))\n",
    "\n",
    "for epoch in tqdm(range(max_epochs)):\n",
    "  # Frobenius norm per epoch\n",
    "  # norm, pl, layer_names = calculate_frobenius_norm(model)\n",
    "\n",
    "  # Training\n",
    "  # model_norm.append(norm)\n",
    "  # norm_per_layer.append(pl)\n",
    "  model.train()\n",
    "  optimizer.zero_grad()\n",
    "  predictions = model(X)\n",
    "  loss = criterion(predictions, Y)\n",
    "  loss.backward()\n",
    "  optimizer.step()\n",
    "\n",
    "  train_loss.append(loss.data.item())\n",
    "  model.eval()\n",
    "  Y_test = model(X_test)\n",
    "  loss = criterion(Y_test, 2*X_test)\n",
    "  test_loss.append(loss.data.item())\n",
    "\n",
    "  if (epoch % 500 == 0 or epoch == max_epochs - 1):\n",
    "    running_predictions[:, iters] = Y_test[:, 0, 0].detach().numpy()\n",
    "    iters += 1"
   ]
  },
  {
   "cell_type": "markdown",
   "metadata": {
    "id": "GYi4UrxlYalf"
   },
   "source": [
    "Let us plot the loss of the train and of the test set... What are the conclusions about our prediction?"
   ]
  },
  {
   "cell_type": "code",
   "execution_count": null,
   "metadata": {
    "colab": {
     "base_uri": "https://localhost:8080/",
     "height": 791
    },
    "id": "2RsQ9hMsb9WL",
    "outputId": "40fe1d24-bcb5-4dc5-a5a1-9b6e7eb5cd4d"
   },
   "outputs": [],
   "source": [
    "# Visualizing train data\n",
    "plt.figure(figsize=(8, 6))\n",
    "epochs = np.arange(len(test_loss))\n",
    "\n",
    "plt.plot(epochs,test_loss,label=\"Test loss\")\n",
    "plt.plot(epochs,train_loss,label=\"Train loss\")\n",
    "plt.xlabel('Epochs')\n",
    "plt.ylabel('Loss')\n",
    "plt.title('Overfitting')\n",
    "plt.legend()\n",
    "plt.show()\n",
    "\n",
    "plt.figure(figsize=(8, 6))\n",
    "\n",
    "plt.semilogy(epochs,test_loss,label=\"Test loss\")\n",
    "plt.semilogy(epochs,train_loss,label=\"Train loss\")\n",
    "plt.xlabel('Epochs')\n",
    "plt.ylabel('Loss')\n",
    "plt.title('Overfitting')\n",
    "plt.legend()\n",
    "plt.show()"
   ]
  },
  {
   "attachments": {},
   "cell_type": "markdown",
   "metadata": {},
   "source": [
    "Let us visualize the model prediction together with the real function we want to approximate..."
   ]
  },
  {
   "cell_type": "code",
   "execution_count": null,
   "metadata": {
    "colab": {
     "base_uri": "https://localhost:8080/",
     "height": 404
    },
    "id": "0jgEFq_Hern7",
    "outputId": "bb66a3a6-917e-4cf7-a2bb-cb5a74c49d6c"
   },
   "outputs": [],
   "source": [
    "Y_real = 2*X_test\n",
    "\n",
    "plt.figure(figsize=(8, 6))\n",
    "plt.scatter(X_test.detach().numpy(),model(X_test).detach().numpy(), label=\"NN prediction\")\n",
    "plt.scatter(X.numpy(),Y.numpy(), label=\"Train\")\n",
    "plt.scatter(X_test.detach().numpy(),Y_real.detach().numpy(), label= \"Real output\")\n",
    "plt.xlabel('input (x)')\n",
    "plt.ylabel('output(y)')\n",
    "plt.title('Prediction vs Reality')\n",
    "plt.legend()\n",
    "plt.show()\n",
    "\n"
   ]
  }
 ],
 "metadata": {
  "colab": {
   "provenance": []
  },
  "kernelspec": {
   "display_name": "Python 3 (ipykernel)",
   "language": "python",
   "name": "python3"
  },
  "language_info": {
   "codemirror_mode": {
    "name": "ipython",
    "version": 3
   },
   "file_extension": ".py",
   "mimetype": "text/x-python",
   "name": "python",
   "nbconvert_exporter": "python",
   "pygments_lexer": "ipython3",
   "version": "3.10.13"
  },
  "widgets": {
   "application/vnd.jupyter.widget-state+json": {
    "0377678cba84406f8ba49de382f5770f": {
     "model_module": "@jupyter-widgets/base",
     "model_module_version": "1.2.0",
     "model_name": "LayoutModel",
     "state": {
      "_model_module": "@jupyter-widgets/base",
      "_model_module_version": "1.2.0",
      "_model_name": "LayoutModel",
      "_view_count": null,
      "_view_module": "@jupyter-widgets/base",
      "_view_module_version": "1.2.0",
      "_view_name": "LayoutView",
      "align_content": null,
      "align_items": null,
      "align_self": null,
      "border": null,
      "bottom": null,
      "display": null,
      "flex": null,
      "flex_flow": null,
      "grid_area": null,
      "grid_auto_columns": null,
      "grid_auto_flow": null,
      "grid_auto_rows": null,
      "grid_column": null,
      "grid_gap": null,
      "grid_row": null,
      "grid_template_areas": null,
      "grid_template_columns": null,
      "grid_template_rows": null,
      "height": null,
      "justify_content": null,
      "justify_items": null,
      "left": null,
      "margin": null,
      "max_height": null,
      "max_width": null,
      "min_height": null,
      "min_width": null,
      "object_fit": null,
      "object_position": null,
      "order": null,
      "overflow": null,
      "overflow_x": null,
      "overflow_y": null,
      "padding": null,
      "right": null,
      "top": null,
      "visibility": null,
      "width": null
     }
    },
    "2cd9a131a0104a198b13200c7434471f": {
     "model_module": "@jupyter-widgets/controls",
     "model_module_version": "1.5.0",
     "model_name": "ProgressStyleModel",
     "state": {
      "_model_module": "@jupyter-widgets/controls",
      "_model_module_version": "1.5.0",
      "_model_name": "ProgressStyleModel",
      "_view_count": null,
      "_view_module": "@jupyter-widgets/base",
      "_view_module_version": "1.2.0",
      "_view_name": "StyleView",
      "bar_color": null,
      "description_width": ""
     }
    },
    "2ffa3e8f40974382a9d50622235672ba": {
     "model_module": "@jupyter-widgets/base",
     "model_module_version": "1.2.0",
     "model_name": "LayoutModel",
     "state": {
      "_model_module": "@jupyter-widgets/base",
      "_model_module_version": "1.2.0",
      "_model_name": "LayoutModel",
      "_view_count": null,
      "_view_module": "@jupyter-widgets/base",
      "_view_module_version": "1.2.0",
      "_view_name": "LayoutView",
      "align_content": null,
      "align_items": null,
      "align_self": null,
      "border": null,
      "bottom": null,
      "display": null,
      "flex": null,
      "flex_flow": null,
      "grid_area": null,
      "grid_auto_columns": null,
      "grid_auto_flow": null,
      "grid_auto_rows": null,
      "grid_column": null,
      "grid_gap": null,
      "grid_row": null,
      "grid_template_areas": null,
      "grid_template_columns": null,
      "grid_template_rows": null,
      "height": null,
      "justify_content": null,
      "justify_items": null,
      "left": null,
      "margin": null,
      "max_height": null,
      "max_width": null,
      "min_height": null,
      "min_width": null,
      "object_fit": null,
      "object_position": null,
      "order": null,
      "overflow": null,
      "overflow_x": null,
      "overflow_y": null,
      "padding": null,
      "right": null,
      "top": null,
      "visibility": null,
      "width": null
     }
    },
    "479e97eafd3d4050ab8ca4b820d660f5": {
     "model_module": "@jupyter-widgets/base",
     "model_module_version": "1.2.0",
     "model_name": "LayoutModel",
     "state": {
      "_model_module": "@jupyter-widgets/base",
      "_model_module_version": "1.2.0",
      "_model_name": "LayoutModel",
      "_view_count": null,
      "_view_module": "@jupyter-widgets/base",
      "_view_module_version": "1.2.0",
      "_view_name": "LayoutView",
      "align_content": null,
      "align_items": null,
      "align_self": null,
      "border": null,
      "bottom": null,
      "display": null,
      "flex": null,
      "flex_flow": null,
      "grid_area": null,
      "grid_auto_columns": null,
      "grid_auto_flow": null,
      "grid_auto_rows": null,
      "grid_column": null,
      "grid_gap": null,
      "grid_row": null,
      "grid_template_areas": null,
      "grid_template_columns": null,
      "grid_template_rows": null,
      "height": null,
      "justify_content": null,
      "justify_items": null,
      "left": null,
      "margin": null,
      "max_height": null,
      "max_width": null,
      "min_height": null,
      "min_width": null,
      "object_fit": null,
      "object_position": null,
      "order": null,
      "overflow": null,
      "overflow_x": null,
      "overflow_y": null,
      "padding": null,
      "right": null,
      "top": null,
      "visibility": null,
      "width": null
     }
    },
    "689d8ce08f004b6099bf422258b26f0b": {
     "model_module": "@jupyter-widgets/controls",
     "model_module_version": "1.5.0",
     "model_name": "FloatProgressModel",
     "state": {
      "_dom_classes": [],
      "_model_module": "@jupyter-widgets/controls",
      "_model_module_version": "1.5.0",
      "_model_name": "FloatProgressModel",
      "_view_count": null,
      "_view_module": "@jupyter-widgets/controls",
      "_view_module_version": "1.5.0",
      "_view_name": "ProgressView",
      "bar_style": "success",
      "description": "",
      "description_tooltip": null,
      "layout": "IPY_MODEL_0377678cba84406f8ba49de382f5770f",
      "max": 10000,
      "min": 0,
      "orientation": "horizontal",
      "style": "IPY_MODEL_2cd9a131a0104a198b13200c7434471f",
      "value": 10000
     }
    },
    "7a1c7a76c2ba4800bfff430e961523af": {
     "model_module": "@jupyter-widgets/controls",
     "model_module_version": "1.5.0",
     "model_name": "DescriptionStyleModel",
     "state": {
      "_model_module": "@jupyter-widgets/controls",
      "_model_module_version": "1.5.0",
      "_model_name": "DescriptionStyleModel",
      "_view_count": null,
      "_view_module": "@jupyter-widgets/base",
      "_view_module_version": "1.2.0",
      "_view_name": "StyleView",
      "description_width": ""
     }
    },
    "7d5281c09e9f41138b6ff8681d704d12": {
     "model_module": "@jupyter-widgets/controls",
     "model_module_version": "1.5.0",
     "model_name": "HTMLModel",
     "state": {
      "_dom_classes": [],
      "_model_module": "@jupyter-widgets/controls",
      "_model_module_version": "1.5.0",
      "_model_name": "HTMLModel",
      "_view_count": null,
      "_view_module": "@jupyter-widgets/controls",
      "_view_module_version": "1.5.0",
      "_view_name": "HTMLView",
      "description": "",
      "description_tooltip": null,
      "layout": "IPY_MODEL_8b4a2d6c82d947fd80db1b9842f2aeba",
      "placeholder": "​",
      "style": "IPY_MODEL_a6c65da5998f4728800905187bde8637",
      "value": " 10000/10000 [00:30&lt;00:00, 349.85it/s]"
     }
    },
    "83642854a64c4a028bd100fb4f345ef7": {
     "model_module": "@jupyter-widgets/controls",
     "model_module_version": "1.5.0",
     "model_name": "HBoxModel",
     "state": {
      "_dom_classes": [],
      "_model_module": "@jupyter-widgets/controls",
      "_model_module_version": "1.5.0",
      "_model_name": "HBoxModel",
      "_view_count": null,
      "_view_module": "@jupyter-widgets/controls",
      "_view_module_version": "1.5.0",
      "_view_name": "HBoxView",
      "box_style": "",
      "children": [
       "IPY_MODEL_e575829a8f8f423b8c09a2c57b8067a1",
       "IPY_MODEL_689d8ce08f004b6099bf422258b26f0b",
       "IPY_MODEL_7d5281c09e9f41138b6ff8681d704d12"
      ],
      "layout": "IPY_MODEL_479e97eafd3d4050ab8ca4b820d660f5"
     }
    },
    "8b4a2d6c82d947fd80db1b9842f2aeba": {
     "model_module": "@jupyter-widgets/base",
     "model_module_version": "1.2.0",
     "model_name": "LayoutModel",
     "state": {
      "_model_module": "@jupyter-widgets/base",
      "_model_module_version": "1.2.0",
      "_model_name": "LayoutModel",
      "_view_count": null,
      "_view_module": "@jupyter-widgets/base",
      "_view_module_version": "1.2.0",
      "_view_name": "LayoutView",
      "align_content": null,
      "align_items": null,
      "align_self": null,
      "border": null,
      "bottom": null,
      "display": null,
      "flex": null,
      "flex_flow": null,
      "grid_area": null,
      "grid_auto_columns": null,
      "grid_auto_flow": null,
      "grid_auto_rows": null,
      "grid_column": null,
      "grid_gap": null,
      "grid_row": null,
      "grid_template_areas": null,
      "grid_template_columns": null,
      "grid_template_rows": null,
      "height": null,
      "justify_content": null,
      "justify_items": null,
      "left": null,
      "margin": null,
      "max_height": null,
      "max_width": null,
      "min_height": null,
      "min_width": null,
      "object_fit": null,
      "object_position": null,
      "order": null,
      "overflow": null,
      "overflow_x": null,
      "overflow_y": null,
      "padding": null,
      "right": null,
      "top": null,
      "visibility": null,
      "width": null
     }
    },
    "a6c65da5998f4728800905187bde8637": {
     "model_module": "@jupyter-widgets/controls",
     "model_module_version": "1.5.0",
     "model_name": "DescriptionStyleModel",
     "state": {
      "_model_module": "@jupyter-widgets/controls",
      "_model_module_version": "1.5.0",
      "_model_name": "DescriptionStyleModel",
      "_view_count": null,
      "_view_module": "@jupyter-widgets/base",
      "_view_module_version": "1.2.0",
      "_view_name": "StyleView",
      "description_width": ""
     }
    },
    "e575829a8f8f423b8c09a2c57b8067a1": {
     "model_module": "@jupyter-widgets/controls",
     "model_module_version": "1.5.0",
     "model_name": "HTMLModel",
     "state": {
      "_dom_classes": [],
      "_model_module": "@jupyter-widgets/controls",
      "_model_module_version": "1.5.0",
      "_model_name": "HTMLModel",
      "_view_count": null,
      "_view_module": "@jupyter-widgets/controls",
      "_view_module_version": "1.5.0",
      "_view_name": "HTMLView",
      "description": "",
      "description_tooltip": null,
      "layout": "IPY_MODEL_2ffa3e8f40974382a9d50622235672ba",
      "placeholder": "​",
      "style": "IPY_MODEL_7a1c7a76c2ba4800bfff430e961523af",
      "value": "100%"
     }
    }
   }
  }
 },
 "nbformat": 4,
 "nbformat_minor": 4
}
